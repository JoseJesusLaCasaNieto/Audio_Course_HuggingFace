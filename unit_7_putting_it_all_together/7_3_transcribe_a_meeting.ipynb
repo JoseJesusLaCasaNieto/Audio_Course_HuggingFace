{
 "cells": [
  {
   "cell_type": "markdown",
   "metadata": {},
   "source": [
    "# Transcribe a meeting"
   ]
  },
  {
   "cell_type": "markdown",
   "metadata": {},
   "source": [
    "## Speaker Diarization"
   ]
  },
  {
   "cell_type": "code",
   "execution_count": null,
   "metadata": {},
   "outputs": [],
   "source": [
    "from pyannote.audio import Pipeline\n",
    "\n",
    "diarization_pipeline = Pipeline.from_pretrained(\n",
    "    \"pyannote/speaker_diarization@2.1\",\n",
    "    use_auth_token=True\n",
    ")"
   ]
  },
  {
   "cell_type": "code",
   "execution_count": null,
   "metadata": {},
   "outputs": [],
   "source": [
    "from datasets import load_dataset\n",
    "\n",
    "concatenated_librispeech = load_dataset(\n",
    "    \"sanchit-gandhi/concatenated-librispeech\",\n",
    "    split=\"train\",\n",
    "    streaming=True\n",
    ")\n",
    "sample = next(iter(concatenated_librispeech))"
   ]
  },
  {
   "cell_type": "code",
   "execution_count": null,
   "metadata": {},
   "outputs": [],
   "source": [
    "from IPython.display import Audio\n",
    "\n",
    "Audio(sample[\"audio\"][\"array\"], rate=sample[\"audio\"][\"sampling_rate\"])"
   ]
  },
  {
   "cell_type": "code",
   "execution_count": null,
   "metadata": {},
   "outputs": [],
   "source": [
    "import torch\n",
    "\n",
    "input_tensor = torch.from_numpy(sample[\"audio\"][\"array\"][None, :]).float()\n",
    "outputs = diarization_pipeline(\n",
    "    {\"waveform\": input_tensor, \"sample_rate\": sample[\"audio\"][\"sampling_rate\"]}\n",
    ")\n",
    "\n",
    "outputs.for_json()[\"content\"]"
   ]
  },
  {
   "cell_type": "markdown",
   "metadata": {},
   "source": [
    "## Speech transcription"
   ]
  },
  {
   "cell_type": "code",
   "execution_count": null,
   "metadata": {},
   "outputs": [],
   "source": [
    "from transformers import pipeline\n",
    "\n",
    "asr_pipeline = pipeline(\n",
    "    \"automatic-speech-recognition\",\n",
    "    model=\"openai/whisper-base\"\n",
    ")"
   ]
  },
  {
   "cell_type": "code",
   "execution_count": null,
   "metadata": {},
   "outputs": [],
   "source": [
    "asr_pipeline(\n",
    "    sample[\"audio\"].copy(),\n",
    "    generate_kwargs={\"max_new_tokens\": 256},\n",
    "    return_timestamps=True\n",
    ")"
   ]
  },
  {
   "cell_type": "markdown",
   "metadata": {},
   "source": [
    "## Speechbox"
   ]
  },
  {
   "cell_type": "code",
   "execution_count": null,
   "metadata": {},
   "outputs": [],
   "source": [
    "from speechbox import ASRDiarizationPipeline\n",
    "\n",
    "pipeline = ASRDiarizationPipeline(\n",
    "    asr_pipeline=asr_pipeline,\n",
    "    diarization_pipeline=diarization_pipeline\n",
    ")"
   ]
  },
  {
   "cell_type": "code",
   "execution_count": null,
   "metadata": {},
   "outputs": [],
   "source": [
    "pipeline(sample[\"audio\"].copy())"
   ]
  },
  {
   "cell_type": "code",
   "execution_count": null,
   "metadata": {},
   "outputs": [],
   "source": [
    "def tuple_to_string(start_end_tuple, ndigits=1):\n",
    "    return str((round(start_end_tuple[0], ndigits), round(start_end_tuple[1], ndigits)))\n",
    "\n",
    "def format_as_transcription(raw_segments):\n",
    "    return \"\\n\\n\".join(\n",
    "        [\n",
    "            chunk[\"speaker\"] + \" \" + tuple_to_string(chunk[\"timestamp\"]) + chunk[\"text\"]\n",
    "            for chunk in raw_segments\n",
    "        ]\n",
    "    )"
   ]
  },
  {
   "cell_type": "code",
   "execution_count": null,
   "metadata": {},
   "outputs": [],
   "source": [
    "outputs = pipeline(sample[\"audio\"].copy())\n",
    "\n",
    "format_as_transcription(outputs)"
   ]
  }
 ],
 "metadata": {
  "kernelspec": {
   "display_name": "huggingface_audio_course_py311",
   "language": "python",
   "name": "python3"
  },
  "language_info": {
   "name": "python",
   "version": "3.11.11"
  }
 },
 "nbformat": 4,
 "nbformat_minor": 2
}
